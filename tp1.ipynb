{
 "cells": [
  {
   "cell_type": "markdown",
   "metadata": {},
   "source": [
    "# TP n°1 : Interface, variables, opérations\n",
    "\n"
   ]
  },
  {
   "cell_type": "markdown",
   "metadata": {},
   "source": [
    "___________________________________________________________________________\n",
    "## Demi-carré en mode texte\n",
    "\n"
   ]
  },
  {
   "cell_type": "markdown",
   "metadata": {},
   "source": [
    "Ecrire un code Python qui affiche exactement ceci (les caractères sont des lettres X majuscules) :\n",
    "\n",
    "    X\n",
    "    XX\n",
    "    XXX\n",
    "    XXXX\n",
    "Bien sûr, et même si vous avez déjà rencontré cela, aucune boucle `for` n'est à utiliser.\n",
    "\n"
   ]
  },
  {
   "cell_type": "code",
   "execution_count": null,
   "metadata": {},
   "outputs": [],
   "source": [
    "# Votre code ICI\n"
   ]
  },
  {
   "cell_type": "markdown",
   "metadata": {},
   "source": [
    "___________________________________________________________________________\n",
    "## Affichages empilés, côte-à-côte\n",
    "\n"
   ]
  },
  {
   "cell_type": "markdown",
   "metadata": {},
   "source": [
    "On vous donne un entier $x$, par exemple $x=2020$. Ecrire le code d'un programme qui réalise l'affichage de\n",
    "\n",
    "$x$, $x+1$ et $x+2$\n",
    "\n",
    "avec un seul nombre par ligne puis qui saute une ligne et affiche en ligne de $x$, $x+1$ et $x+2$. L'ensemble doit être entouré d'un séparateur formé de 25 tirets. Avec l'exemple $x=2020$, on obtient les 7 lignes suivantes  :\n",
    "\n",
    "    -------------------------\n",
    "    2020\n",
    "    2021\n",
    "    2022\n",
    "    \n",
    "    2020 2021 2022\n",
    "    -------------------------\n"
   ]
  },
  {
   "cell_type": "code",
   "execution_count": null,
   "metadata": {},
   "outputs": [],
   "source": [
    "# Votre code ICI\n"
   ]
  },
  {
   "cell_type": "markdown",
   "metadata": {},
   "source": [
    "___________________________________________________________________________\n",
    "## La finance aime Python\n",
    "\n"
   ]
  },
  {
   "cell_type": "markdown",
   "metadata": {},
   "source": [
    "Traduire en utilisant une variable `milliard` et une variable `million` l'opération suivante:\n",
    "\n",
    "200 milliards de millions augmenté de 2020 millions et privé de 925 milliards.\n",
    "\n",
    "Afficher le résultat (on trouvera `199999077020000000`).\n",
    "\n",
    "[De fait, Python est assez utilisé en finances, cf. par exemple [Python for Finance](https://www.learndatasci.com/tutorials/python-finance-part-yahoo-finance-api-pandas-matplotlib/)]\n",
    "\n"
   ]
  },
  {
   "cell_type": "code",
   "execution_count": null,
   "metadata": {},
   "outputs": [],
   "source": [
    "# Votre code ICI\n"
   ]
  },
  {
   "cell_type": "markdown",
   "metadata": {},
   "source": [
    "___________________________________________________________________________\n",
    "## *Vulnerant omnes, ultimat necat*\n",
    "\n"
   ]
  },
  {
   "cell_type": "markdown",
   "metadata": {},
   "source": [
    "1) Combien y-a-t-il de secondes dans un siècle ? (utiliser des variables `une_heure`, `j`, `an` et `siecle` et supposer qu'une année est constituée de 365 jours 1/4)\n",
    "\n"
   ]
  },
  {
   "cell_type": "code",
   "execution_count": null,
   "metadata": {},
   "outputs": [],
   "source": [
    "# Votre code ICI\n"
   ]
  },
  {
   "cell_type": "markdown",
   "metadata": {},
   "source": [
    "2) À partir de quel âge (entier) un individu a vécu au moins 1 milliard de secondes (réponse : 32 ans) ?\n",
    "\n"
   ]
  },
  {
   "cell_type": "code",
   "execution_count": null,
   "metadata": {},
   "outputs": [],
   "source": [
    "# Votre code ICI\n"
   ]
  },
  {
   "cell_type": "markdown",
   "metadata": {},
   "source": [
    "___________________________________________________________________________\n",
    "## Volume du ballon de rugby\n",
    "\n"
   ]
  },
  {
   "cell_type": "markdown",
   "metadata": {},
   "source": [
    "Consulter l'article de wikipedia donnant le volume d'un [ellipsoïde de révolution](https://fr.wikipedia.org/wiki/Ellipso%C3%AFde_de_r%C3%A9volution#Volume_int.C3.A9rieur).\n",
    "\n",
    "On donne la hauteur H d'un ballon de rugby, sa largeur L et on demande de calculer son volume V. On posera `pi = 3.14` et on calculera le volume en litres d'un ballon standard ($H = 29 \\text{cm}$ et $L=  19 \\text{cm}$).\n",
    "\n",
    "*Rappel.* 1 litre vaut $1 \\mathtt{dm^3}$.\n",
    "\n"
   ]
  },
  {
   "cell_type": "code",
   "execution_count": null,
   "metadata": {},
   "outputs": [],
   "source": [
    "# Votre code ICI\n"
   ]
  },
  {
   "cell_type": "markdown",
   "metadata": {},
   "source": [
    "___________________________________________________________________________\n",
    "## Calculs\n",
    "\n"
   ]
  },
  {
   "cell_type": "markdown",
   "metadata": {},
   "source": [
    "Faire effectuer par Python les calculs suivants :\n",
    "\n",
    "$$\\displaystyle a=10 ^{ 2 \\times 3}\\quad b=\\displaystyle\\frac {666}{74\\times 9}\\quad \\displaystyle c = 2 \\times 3,14159 + 2,71828 + 1,4142 \\times 5$$\n",
    "\n"
   ]
  },
  {
   "cell_type": "code",
   "execution_count": null,
   "metadata": {},
   "outputs": [],
   "source": [
    "# Votre code ICI\n"
   ]
  },
  {
   "cell_type": "markdown",
   "metadata": {},
   "source": [
    "___________________________________________________________________________\n",
    "## Diviseur, multiple\n",
    "\n"
   ]
  },
  {
   "cell_type": "markdown",
   "metadata": {},
   "source": [
    "1) Vérifier que 101 est un diviseur de 2020.\n",
    "\n"
   ]
  },
  {
   "cell_type": "code",
   "execution_count": null,
   "metadata": {},
   "outputs": [],
   "source": [
    "# Votre code ICI\n"
   ]
  },
  {
   "cell_type": "markdown",
   "metadata": {},
   "source": [
    "2) Montrer que 192642212037519289 et 138633362400520449 ont même reste dans la division entière par 2020.\n",
    "\n"
   ]
  },
  {
   "cell_type": "code",
   "execution_count": null,
   "metadata": {},
   "outputs": [],
   "source": [
    "# Votre code ICI\n"
   ]
  },
  {
   "cell_type": "markdown",
   "metadata": {},
   "source": [
    "3) On donne deux entiers $n, d>0$. Déterminer le plus petit multiple $m$ de $d$ qui soit strictement supérieur à $n$. Par exemple,\n",
    "\n",
    "\n",
    "- si $n=42$ et $d=10$ alors $m=50$\n",
    "\n",
    "- si $n=50$ et $d=10$ alors $m=60$\n",
    "\n",
    "Le même code doit fonctionner pour tout choix de $n$ et $d$.\n",
    "\n",
    "Appliquer à $n=2017$ et $d=81$.\n",
    "\n"
   ]
  },
  {
   "cell_type": "code",
   "execution_count": null,
   "metadata": {},
   "outputs": [],
   "source": [
    "# Votre code ICI\n"
   ]
  },
  {
   "cell_type": "markdown",
   "metadata": {},
   "source": [
    "___________________________________________________________________________\n",
    "## Multiples de 421\n",
    "\n"
   ]
  },
  {
   "cell_type": "markdown",
   "metadata": {},
   "source": [
    "Ecrire la liste des 5 premiers multiples de 421. On donnera deux codes :\n",
    "\n",
    "\n",
    "- un code affichant les nombres les uns en-dessous des autres,\n",
    "\n",
    "- un code affichant les nombres les uns à côtés des autres.\n",
    "\n"
   ]
  },
  {
   "cell_type": "code",
   "execution_count": null,
   "metadata": {},
   "outputs": [],
   "source": [
    "# Votre code ICI\n"
   ]
  },
  {
   "cell_type": "markdown",
   "metadata": {},
   "source": [
    "___________________________________________________________________________\n",
    "## Nombre de tours\n",
    "\n"
   ]
  },
  {
   "cell_type": "markdown",
   "metadata": {},
   "source": [
    "Utiliser des variables pour résoudre le problème suivant :\n",
    "\n",
    "un coureur fait un tour de circuit en $c$ minutes. Quel est le nombre $x$ de tours complets qu'il effectuera en $n$ minutes ? Appliquer avec $c=7$, $n=240$.\n",
    "\n"
   ]
  },
  {
   "cell_type": "code",
   "execution_count": null,
   "metadata": {},
   "outputs": [],
   "source": [
    "# Votre code ICI\n"
   ]
  },
  {
   "cell_type": "markdown",
   "metadata": {},
   "source": [
    "___________________________________________________________________________\n",
    "## Factorielles\n",
    "\n"
   ]
  },
  {
   "cell_type": "markdown",
   "metadata": {},
   "source": [
    "On rappelle que la notation $k!$ désigne la factorielle de l'entier positif $k$ c'est-à-dire le nombre\n",
    "\n",
    "$$1\\times 2\\times \\cdots \\times k.$$\n",
    "\n",
    "Par exemple $5!=1\\times 2\\times 3\\times 4\\times 5=6\\times 20=120$.\n",
    "\n"
   ]
  },
  {
   "cell_type": "markdown",
   "metadata": {},
   "source": [
    "1) Faites calculer $20!$ par Python en écrivant explicitement le produit des 20 entiers.\n",
    "\n"
   ]
  },
  {
   "cell_type": "code",
   "execution_count": null,
   "metadata": {},
   "outputs": [],
   "source": [
    "# Votre code ICI\n"
   ]
  },
  {
   "cell_type": "markdown",
   "metadata": {},
   "source": [
    "2) L'instruction suivante :\n",
    "\n"
   ]
  },
  {
   "cell_type": "code",
   "execution_count": null,
   "metadata": {},
   "outputs": [],
   "source": [
    "from math import *\n"
   ]
  },
  {
   "cell_type": "markdown",
   "metadata": {},
   "source": [
    "placée dans un code Python, est une instruction d'importation. Elle permet d'importer dans votre code toutes les fonctionnalités du module `math`. Donc une fois l'instruction validée, votre code peut utiliser librement les fonctions mathématiques comme cosinus, sinus, etc, le nombre $\\pi$, le nombre $\\mathrm e = 2,71828...$ (la base du logarithme naturel)  ou encore la fonction factorielle.\n",
    "\n",
    "Après avoir placé dans votre code la ligne ci-dessus, faites calculer directement\n",
    "\n",
    "\n",
    "- factorielle de 20\n",
    "\n",
    "- factorielle de 2020\n",
    "\n",
    "- $\\displaystyle\\cos\\frac\\pi 4$\n",
    "\n",
    "- $\\displaystyle\\frac 1e$\n",
    "\n",
    "Utilisez que :\n",
    "\n",
    "\n",
    "- la fonction factorielle s'appelle `factorial`\n",
    "\n",
    "- la fonction cosinus s'appelle `cos`,\n",
    "\n",
    "- la constante $\\pi$ s'appelle `pi`,\n",
    "\n",
    "- la constante $\\mathrm e $ s'appelle `e`\n",
    "\n"
   ]
  },
  {
   "cell_type": "code",
   "execution_count": null,
   "metadata": {},
   "outputs": [],
   "source": [
    "# Votre code ICI\n"
   ]
  },
  {
   "cell_type": "markdown",
   "metadata": {},
   "source": [
    "3) La formule de Stirling donne une approximation de $n!$ pour de grandes valeurs de $n$. Cette formule énonce que $n! \\approx \\text{sn}$ où :\n",
    "\n",
    "$$ \\text{sn} = \\left(\\frac ne\\right)^n\\sqrt{2\\pi n} $$\n",
    "\n",
    "Pour $n=20$, $n=170$ et $n=2020$ calculer\n",
    "\n",
    "\n",
    "- la valeur exacte de $n!$ en utilisant la fonction `factorial`,\n",
    "\n",
    "- la valeur approchée `sn` donnée par la formule de Stirling.\n",
    "\n",
    "- l'erreur relative `err` donnée en pourcentage : $\\displaystyle\\text{err}=100\\frac{n!-\\text{sn}}{n!}$\n",
    "\n",
    "Pour $n=2020$, vous aurez une erreur. Essayez de comprendre cette erreur.\n",
    "\n"
   ]
  },
  {
   "cell_type": "code",
   "execution_count": null,
   "metadata": {},
   "outputs": [],
   "source": [
    "# Votre code ICI\n"
   ]
  },
  {
   "cell_type": "markdown",
   "metadata": {},
   "source": [
    "___________________________________________________________________________\n",
    "## Reproduire un affichage\n",
    "\n"
   ]
  },
  {
   "cell_type": "markdown",
   "metadata": {},
   "source": [
    "Soit une variable `x`, représentant un entier. On cherche à fournir un affichage du calcul de $10x+1$. Si, par exemple, $x=42$, on veut que l'affichage ait EXACTEMENT la forme suivante\n",
    "\n",
    "    x = 42 => 10 * x + 1 = 421\n",
    "ou encore (si $x=3$) :\n",
    "\n",
    "    x = 3 => 10 * x + 1 = 31\n",
    "Écrire un code qui produise ce type d'affichage.\n",
    "\n"
   ]
  },
  {
   "cell_type": "code",
   "execution_count": null,
   "metadata": {},
   "outputs": [],
   "source": [
    "# Votre code ICI\n"
   ]
  },
  {
   "cell_type": "markdown",
   "metadata": {},
   "source": [
    "___________________________________________________________________________\n",
    "## Priorités des opérateurs\n",
    "\n"
   ]
  },
  {
   "cell_type": "markdown",
   "metadata": {},
   "source": [
    "L'expression `2 + 3 * 5` pourrait a priori s'interpréter `(2 + 3) * 5` ou `2 + (3 * 5)`. Demandons à Python la valeur des trois expressions :\n",
    "\n"
   ]
  },
  {
   "cell_type": "code",
   "execution_count": null,
   "metadata": {},
   "outputs": [],
   "source": [
    "x=2 + 3 * 5\n",
    "y=(2 + 3) * 5\n",
    "z=2 + (3 * 5)\n",
    "\n",
    "print (x==y, x==z)\n"
   ]
  },
  {
   "cell_type": "markdown",
   "metadata": {},
   "source": [
    "    False True\n",
    "Donc la bonne interprétation avec les parenthèses est `2 + (3 * 5)`.\n",
    "\n",
    "Faire de même pour les cinq expressions suivantes autrement dit placer toutes les parenthèses utiles dans l'expression pour obtenir une expression non ambiguë et de même valeur :\n",
    "\n",
    "    - 1 ** 2\n",
    "    10 ** 2 ** 3\n",
    "    7 * 29 / 7\n",
    "    2 / 1 * 2\n",
    "    60 / 6 / 2 / 5\n"
   ]
  },
  {
   "cell_type": "code",
   "execution_count": null,
   "metadata": {},
   "outputs": [],
   "source": [
    "# Votre code ICI\n"
   ]
  },
  {
   "cell_type": "markdown",
   "metadata": {},
   "source": [
    "___________________________________________________________________________\n",
    "## Répétitions sans boucle\n",
    "\n"
   ]
  },
  {
   "cell_type": "markdown",
   "metadata": {},
   "source": [
    "*Cet exercice réclame de l'astuce !*\n",
    "\n"
   ]
  },
  {
   "cell_type": "markdown",
   "metadata": {},
   "source": [
    "1) Soit l'entier `N` dont l'écriture en base 10 est formée du chiffre `9` répété 2020 fois :\n",
    "\n",
    "Afficher la valeur `N` en base 10. *Indication* : que se passe-t-il si on ajoute 1 à `N` ?\n",
    "\n"
   ]
  },
  {
   "cell_type": "code",
   "execution_count": null,
   "metadata": {},
   "outputs": [],
   "source": [
    "# Votre code ICI\n"
   ]
  },
  {
   "cell_type": "markdown",
   "metadata": {},
   "source": [
    "2) Soit l'entier `N` dont l'écriture en base 2 est formé du chiffre `1` répété 2020 fois. Afficher la valeur `N` en base 10.\n",
    "\n"
   ]
  },
  {
   "cell_type": "code",
   "execution_count": null,
   "metadata": {},
   "outputs": [],
   "source": [
    "# Votre code ICI\n"
   ]
  },
  {
   "cell_type": "markdown",
   "metadata": {},
   "source": [
    "___________________________________________________________________________\n",
    "## Copier-coller pour Fibonacci\n",
    "\n"
   ]
  },
  {
   "cell_type": "markdown",
   "metadata": {},
   "source": [
    "[Cet exercice est corrigé dans une [vidéo](https://www.youtube.com/watch?time_continue=1&v=R4CC1sgV82o). Naturellement, il est de peu d' intérêt de coder l'exercice après avoir vu la vidéo.]\n",
    "\n",
    "Voici les 12 premiers termes de la suite de Fibonacci :\n",
    "\n",
    "$$1, 1, 2, 3, 5, 8, 13, 21, 34, 55, 89, 144 $$\n",
    "\n",
    "Plus généralement, les deux premiers termes de cette suite sont 1 et encore 1 et, chaque terme de la suite à partir du troisième s'obtient en faisant la somme des deux précédents. Par exemple, ci-dessus, $89 = 34 + 55$.\n",
    "\n",
    "On cherche à calculer le $\\mathtt{n}$-ème terme de la suite de Fibonacci. Comme on ne dispose pas encore de la structure de contrôle Python permettant de le faire de manière appropriée (la boucle $\\mathtt{for}$), on va utiliser une astuce pas très élégante, des copier-coller. On calculera le 200e terme. On trouvera que c'est un entier de 42 chiffres et qui commence par 2805. Pour accélérer la saisie, on fera des copier-coller de copier-coller.\n",
    "\n",
    "On utilisera quatre variables :\n",
    "\n",
    "Variable|Initialisation|Rôle\n",
    "---|---|---\n",
    "$\\mathtt{n}$|$\\mathtt{n=2}$|Rang du terme courant\n",
    "$\\mathtt{x}$|$\\mathtt{x=1}$|Avant-dernière valeur de la suite\n",
    "$\\mathtt{y}$|$\\mathtt{y=1}$|Dernière valeur calculée\n",
    "$\\mathtt{z}$|Aucune|$\\mathtt{z = x + y}$ : valeur suivante\n",
    "\n",
    "\n",
    "*Indications*\n",
    "\n",
    "La répétition sera assurée par des copier-coller. Supposons stockés\n",
    "\n",
    "\n",
    "- l'avant-dernier terme, disons `x`, de rang `n-1`\n",
    "\n",
    "- le dernier terme, disons `y`, de rang `n`\n",
    "\n",
    "Alors le prochain terme sera `z=x+y` et il faut penser à remettre à jour les variables pour l'étape suivante.\n",
    "\n"
   ]
  },
  {
   "cell_type": "code",
   "execution_count": null,
   "metadata": {},
   "outputs": [],
   "source": [
    "# Votre code ICI\n"
   ]
  }
 ],
 "metadata": {
  "kernelspec": {
   "display_name": "Python 3",
   "language": "python",
   "name": "python3"
  },
  "language_info": {
   "codemirror_mode": {
    "name": "ipython",
    "version": 3
   },
   "file_extension": ".py",
   "mimetype": "text/x-python",
   "name": "python",
   "nbconvert_exporter": "python",
   "pygments_lexer": "ipython3",
   "version": "3.6.9"
  }
 },
 "nbformat": 4,
 "nbformat_minor": 1
}
